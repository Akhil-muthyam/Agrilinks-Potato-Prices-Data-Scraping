{
 "cells": [
  {
   "cell_type": "markdown",
   "metadata": {},
   "source": [
    "## Importing Required libraries"
   ]
  },
  {
   "cell_type": "code",
   "execution_count": 152,
   "metadata": {},
   "outputs": [],
   "source": [
    "from selenium import webdriver\n",
    "import pandas as pd\n",
    "from selenium.webdriver.common.keys import Keys\n",
    "import time"
   ]
  },
  {
   "cell_type": "code",
   "execution_count": 153,
   "metadata": {},
   "outputs": [],
   "source": [
    "from selenium.webdriver.support import expected_conditions as EC\n",
    "from selenium.webdriver.support.ui import WebDriverWait\n",
    "from selenium.webdriver.common.by import By\n",
    "from selenium.common.exceptions import TimeoutException"
   ]
  },
  {
   "cell_type": "code",
   "execution_count": 184,
   "metadata": {},
   "outputs": [],
   "source": [
    "browser = webdriver.Chrome(r'C:\\Users\\ADMIN\\Downloads\\chromedriver.exe')\n",
    "browser.get('https://agmarknet.gov.in/default.aspx') # Webdriver accessing given website"
   ]
  },
  {
   "cell_type": "code",
   "execution_count": 185,
   "metadata": {},
   "outputs": [],
   "source": [
    "# Putting relevant filters to fetch the Potato prices for Agra in 2020\n",
    "\n",
    "browser.find_element_by_xpath('//*[@id=\"ddlArrivalPrice\"]').send_keys('Price')\n",
    "time.sleep(1)\n",
    "\n",
    "browser.find_element_by_xpath('//*[@id=\"ddlCommodity\"]').send_keys('Potato')\n",
    "time.sleep(1)\n",
    "\n",
    "browser.find_element_by_xpath('//*[@id=\"ddlState\"]').send_keys('Uttar Pradesh')\n",
    "time.sleep(1)\n",
    "\n",
    "browser.find_element_by_xpath('//*[@id=\"ddlDistrict\"]').send_keys('Agra')\n",
    "time.sleep(1)\n",
    "\n",
    "browser.find_element_by_xpath('//*[@id=\"txtDate\"]').clear()\n",
    "time.sleep(1)\n",
    "\n",
    "browser.find_element_by_xpath('//*[@id=\"txtDate\"]').send_keys('01-Jan-2020')\n",
    "time.sleep(1)\n",
    "\n",
    "browser.find_element_by_xpath('//*[@id=\"txtDateTo\"]').clear()\n",
    "time.sleep(1)\n",
    "\n",
    "browser.find_element_by_xpath('//*[@id=\"txtDateTo\"]').send_keys('31-Dec-2020')\n",
    "\n",
    "browser.execute_script(\"arguments[0].click();\", WebDriverWait(browser, 20).until(EC.element_to_be_clickable((By.XPATH, '//*[@id=\"btnGo\"]'))))"
   ]
  },
  {
   "cell_type": "code",
   "execution_count": 186,
   "metadata": {},
   "outputs": [
    {
     "data": {
      "text/plain": [
       "{'S_Number': [],\n",
       " 'District Name': [],\n",
       " 'Market Name': [],\n",
       " 'Commodity': [],\n",
       " 'Variety': [],\n",
       " 'Grade': [],\n",
       " 'Min Price (Rs./Quintal)': [],\n",
       " 'Max Price (Rs./Quintal)': [],\n",
       " 'Modal Price (Rs./Quintal)': [],\n",
       " 'Price Date': []}"
      ]
     },
     "execution_count": 186,
     "metadata": {},
     "output_type": "execute_result"
    }
   ],
   "source": [
    "result_dic ={}\n",
    "column_names = ['S_Number', 'District Name', 'Market Name', 'Commodity', 'Variety', 'Grade', 'Min Price (Rs./Quintal)', \n",
    "                'Max Price (Rs./Quintal)', 'Modal Price (Rs./Quintal)', 'Price Date']\n",
    "for column in column_names:\n",
    "    result_dic[column] = result_dic.get(column,[])       "
   ]
  },
  {
   "cell_type": "code",
   "execution_count": 187,
   "metadata": {},
   "outputs": [],
   "source": [
    "def tabular_data():\n",
    "    table = browser.find_element_by_xpath('//*[@id=\"cphBody_GridPriceData\"]') # Accessing table element\n",
    "\n",
    "    #Iterating through each row in table \n",
    "\n",
    "    for row in table.find_elements_by_xpath('//*[@id=\"cphBody_GridPriceData\"]/tbody/tr'):\n",
    "        if row.text != '':\n",
    "            row_values = row.text\n",
    "            if row_values[0] != 'S':\n",
    "                row_values = row_values.split(' ')\n",
    "                result_dic['S_Number'] += [row_values[0]]\n",
    "                result_dic['District Name'] += [row_values[1]]\n",
    "                result_dic['Market Name'] += [row_values[2]]\n",
    "                result_dic['Commodity'] += [row_values[3]]\n",
    "                result_dic['Variety'] += [row_values[4]]\n",
    "                result_dic['Grade'] += [row_values[5]]\n",
    "                result_dic['Min Price (Rs./Quintal)'] += [row_values[6]]\n",
    "                result_dic['Max Price (Rs./Quintal)'] += [row_values[7]]\n",
    "                result_dic['Modal Price (Rs./Quintal)'] += [row_values[8]]\n",
    "                result_dic['Price Date'] += ['-'.join(row_values[9:])]\n",
    "\n",
    "    "
   ]
  },
  {
   "cell_type": "code",
   "execution_count": 188,
   "metadata": {},
   "outputs": [],
   "source": [
    "tabular_data()"
   ]
  },
  {
   "cell_type": "code",
   "execution_count": 189,
   "metadata": {},
   "outputs": [],
   "source": [
    "browser.execute_script(\"arguments[0].click();\", WebDriverWait(browser, 20).until(EC.element_to_be_clickable((By.XPATH, '//*[@id=\"cphBody_GridPriceData\"]/tbody/tr[52]/td/table/tbody/tr/td[1]/input'))))"
   ]
  },
  {
   "cell_type": "code",
   "execution_count": 190,
   "metadata": {},
   "outputs": [],
   "source": [
    "tabular_data() "
   ]
  },
  {
   "cell_type": "code",
   "execution_count": 191,
   "metadata": {},
   "outputs": [],
   "source": [
    "while True:\n",
    "    try:\n",
    "        browser.execute_script(\"arguments[0].click();\", WebDriverWait(browser, 20).until(EC.element_to_be_clickable((By.XPATH, '//*[@id=\"cphBody_GridPriceData\"]/tbody/tr[52]/td/table/tbody/tr/td[3]/input'))))\n",
    "        time.sleep(20)\n",
    "        tabular_data()\n",
    "    except TimeoutException:\n",
    "        break\n",
    "    "
   ]
  },
  {
   "cell_type": "code",
   "execution_count": 196,
   "metadata": {},
   "outputs": [],
   "source": [
    "result_df = pd.DataFrame(result_dic)\n",
    "result_df.set_index('S_Number', inplace=True)"
   ]
  }
 ],
 "metadata": {
  "kernelspec": {
   "display_name": "Python 3",
   "language": "python",
   "name": "python3"
  },
  "language_info": {
   "codemirror_mode": {
    "name": "ipython",
    "version": 3
   },
   "file_extension": ".py",
   "mimetype": "text/x-python",
   "name": "python",
   "nbconvert_exporter": "python",
   "pygments_lexer": "ipython3",
   "version": "3.8.3"
  }
 },
 "nbformat": 4,
 "nbformat_minor": 4
}
